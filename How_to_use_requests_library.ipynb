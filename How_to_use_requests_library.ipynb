{
  "nbformat": 4,
  "nbformat_minor": 0,
  "metadata": {
    "colab": {
      "provenance": [],
      "authorship_tag": "ABX9TyOQbtR3VrIQ2RLV+W0VpBy3",
      "include_colab_link": true
    },
    "kernelspec": {
      "name": "python3",
      "display_name": "Python 3"
    },
    "language_info": {
      "name": "python"
    }
  },
  "cells": [
    {
      "cell_type": "markdown",
      "metadata": {
        "id": "view-in-github",
        "colab_type": "text"
      },
      "source": [
        "<a href=\"https://colab.research.google.com/github/AndreusSH/requestspython/blob/main/How_to_use_requests_library.ipynb\" target=\"_parent\"><img src=\"https://colab.research.google.com/assets/colab-badge.svg\" alt=\"Open In Colab\"/></a>"
      ]
    },
    {
      "cell_type": "markdown",
      "source": [
        "Use requests library in Python to extract HTML from a website"
      ],
      "metadata": {
        "id": "DpaNgLBCPcrU"
      }
    },
    {
      "cell_type": "code",
      "source": [
        "import requests"
      ],
      "metadata": {
        "id": "PRm5HA_hP06o"
      },
      "execution_count": null,
      "outputs": []
    },
    {
      "cell_type": "code",
      "source": [
        "#Lite index of various websites including Hacker News, Reddit, Slashdot and more\n",
        "url = 'https://www.pxlet.com/'"
      ],
      "metadata": {
        "id": "C0BJGhQdQY5-"
      },
      "execution_count": null,
      "outputs": []
    },
    {
      "cell_type": "code",
      "source": [
        "# Using Jupyther, I can render directly the website\n",
        "from IPython.display import IFrame\n",
        "IFrame(src=url, width='100%', height='250ps')"
      ],
      "metadata": {
        "colab": {
          "base_uri": "https://localhost:8080/",
          "height": 271
        },
        "id": "IwcWMG9fQmma",
        "outputId": "34576ec7-53f2-439b-e976-89ed4cdc2a65"
      },
      "execution_count": null,
      "outputs": [
        {
          "output_type": "execute_result",
          "data": {
            "text/plain": [
              "<IPython.lib.display.IFrame at 0x7f96e1254790>"
            ],
            "text/html": [
              "\n",
              "        <iframe\n",
              "            width=\"100%\"\n",
              "            height=\"250ps\"\n",
              "            src=\"https://www.pxlet.com/\"\n",
              "            frameborder=\"0\"\n",
              "            allowfullscreen\n",
              "        ></iframe>\n",
              "        "
            ]
          },
          "metadata": {},
          "execution_count": 12
        }
      ]
    },
    {
      "cell_type": "code",
      "source": [
        "answer = requests.get(url)"
      ],
      "metadata": {
        "id": "KVFmqZVwRYjP"
      },
      "execution_count": null,
      "outputs": []
    },
    {
      "cell_type": "code",
      "source": [
        "print(answer)"
      ],
      "metadata": {
        "colab": {
          "base_uri": "https://localhost:8080/"
        },
        "id": "DVNUbZp0SyfK",
        "outputId": "3bc44ddf-be44-4978-c12f-fbc3a4ada1c5"
      },
      "execution_count": null,
      "outputs": [
        {
          "output_type": "stream",
          "name": "stdout",
          "text": [
            "<Response [200]>\n"
          ]
        }
      ]
    },
    {
      "cell_type": "code",
      "source": [
        "# what could we do with an answer\n",
        "print(answer.url)\n",
        "print(answer.status_code)\n",
        "print(answer.reason)"
      ],
      "metadata": {
        "colab": {
          "base_uri": "https://localhost:8080/"
        },
        "id": "QueYxJkiTC7K",
        "outputId": "64df3c6f-e80b-408d-f99f-859c9ffc1ae5"
      },
      "execution_count": null,
      "outputs": [
        {
          "output_type": "stream",
          "name": "stdout",
          "text": [
            "https://www.pxlet.com/\n",
            "200\n",
            "OK\n"
          ]
        }
      ]
    },
    {
      "cell_type": "code",
      "source": [
        "#i get the html content of the page\n",
        "print(answer.content)\n"
      ],
      "metadata": {
        "colab": {
          "base_uri": "https://localhost:8080/"
        },
        "id": "QEOSVR_CTIid",
        "outputId": "f6a5a584-48f6-4aef-d9d6-87b82587b855"
      },
      "execution_count": null,
      "outputs": [
        {
          "output_type": "stream",
          "name": "stdout",
          "text": [
            "b'<!DOCTYPE html>\\n<html>\\n<head>\\n<meta http-equiv=\"Content-Type\" content=\"text/html; charset=utf-8\" />\\n<meta name=\"viewport\" content=\"width=device-width, initial-scale=1\">\\n<meta name=\"description\" content=\"Pxlet is a place about technology trends and stories from Hacker News, Reddit, Digg, DZone, SlashDot, CSDN, BuzzFeed, Tech Crunch, The Register, Lobsters, 36 Kr... Read the correct ones instead of reading anyone. It includes news from US, China, Asia etc and can be considered as a very handy technology news aggregator\">\\n<meta name=\"keywords\" content=\"Pxlet, Pixlet, Tech news, Tech news aggregator, Technology news aggregator, Tech trend, Technology, Hacker News, Reddit, Digg, DZone, CSDN, SlashDot, Tech Crunch\">\\n<link rel=\"shortcut icon\" href=\"/favicon.ico\" type=\"image/x-icon\" />\\n<link rel=\"bookmark\" href=\"/favicon.ico\" />\\n<link rel=\"stylesheet\" type=\"text/css\" href=\"/css/external/bootstrap/bootstrap.min.css\"/>\\n<!-- <link rel=\"stylesheet\" type=\"text/css\" href=\"/css/external/material-design-webfonts/css/materialdesignicons.min.css\"/> -->\\n<link rel=\"stylesheet\" type=\"text/css\" href=\"/css/external/fontawesome/css/all.css\"/>\\n<link rel=\"stylesheet\" type=\"text/css\" href=\"/css/main.min.css\"><link rel=\"stylesheet\" type=\"text/css\" href=\"/css/index.min.css\">\\n<script data-ad-client=\"ca-pub-7230278337279690\" async src=\"https://pagead2.googlesyndication.com/pagead/js/adsbygoogle.js\"></script>\\n<title>Pxlet - Yet another tech news hub</title>\\n</head>\\n<body>\\n<a name=\"top\"></a>\\n<div id=\"header\">\\n\\t\\t  <center>\\n\\t    <a href=\"/\"><img src=\"/images/logo.png\" title=\"Pxlet.com\" /></a>\\n\\t    \\t  \\t<br/><br/>\\n\\t  \\t<a href=\"/view/signin.php\" id=\"sign_in_btn\" class=\"btn btn-default btn-md\"><span class=\"fas fa-fw fa-sign-in-alt\"></span>&nbsp;Sign In</a>\\n\\t  \\t\\t  </center>\\n\\t\\n\\t<div id=\"notification\" class=\"alert alert-success\"></div>\\n</div>\\n<div id=\"content_container\" class=\"container\">\\n<!-- Below is the page content container -->\\n<div id=\"main_body\" ng-app=\"TechTrend\" ng-controller=\"TechTrendController\">\\n\\t\\t<div class=\"col-md-12\" id=\"\">\\n\\t\\t<div class=\"alert alert-info alert-dismissible\">\\n\\t\\t<button type=\"button\" class=\"close\" data-dismiss=\"alert\" aria-label=\"Close\"><span aria-hidden=\"true\">&times;</span></button>\\n\\t\\tIt\\'s not only another tech news aggregator. Sign in to experience more features!&nbsp;<a href=\"/view/feature.php\"><i class=\"fas fa-fw fa-arrow-right\"></i> </a>\\n\\t\\t</div>\\n\\t</div>\\n\\t\\t<!--\\n\\t<div class=\"col-md-12\" id=\"weekend_alert\" style=\"display:none;\">\\n\\t\\t<div class=\"alert alert-success alert-dismissible\">\\n\\t\\t<button type=\"button\" class=\"close\" data-dismiss=\"alert\" aria-label=\"Close\" id=\"weekend_close_btn\"><span aria-hidden=\"true\">&times;</span></button>\\n\\t\\t\\tIt\\'s weekend. Time for outing and having some fun! Staying away from us. :)\\t\\t</div>\\n\\t</div>\\n\\t-->\\n\\t<div class=\"col-md-12\">\\n\\t\\t<div class=\"col-md-2\" style=\"padding-left:0;\">\\n\\t\\t\\t<ul class=\"nav nav-tabs tabs-left\">\\n\\t\\t\\t  \\t\\t\\t  <li class=\"active\"><a data-toggle=\"tab\" href=\"#hackernews\"><img src=\"/images/trans.gif\" class=\"bg-hackernews\"/>&nbsp;&nbsp;<strong>Hacker News</strong></a></li>\\n\\t\\t\\t  <li><a data-toggle=\"tab\" href=\"#reddit\"><img src=\"/images/trans.gif\" class=\"bg-reddit\"/>&nbsp;&nbsp;<strong>Reddit</strong></a></li>\\n\\t\\t\\t  <li><a data-toggle=\"tab\" href=\"#techcrunch\"><img src=\"/images/trans.gif\" class=\"bg-techcrunch\"/>&nbsp;&nbsp;<strong>Tech Crunch</strong></a></li>\\n\\t\\t\\t  <li><a data-toggle=\"tab\" href=\"#lobsters\"><img src=\"/images/trans.gif\" class=\"bg-lobsters\"/>&nbsp;&nbsp;<strong>Lobsters</strong></a></li>\\n\\t\\t\\t  <li><a data-toggle=\"tab\" href=\"#krasia\"><img src=\"/images/news_source/krasia.png\" class=\"bg-krasia\"/>&nbsp;&nbsp;<strong>KrAsia</strong></a></li>\\n\\t\\t\\t  <li><a data-toggle=\"tab\" href=\"#juejin\"><img src=\"/images/news_source/juejin.png\"/>&nbsp;&nbsp;<strong>\\xe6\\x8e\\x98\\xe9\\x87\\x91</strong></a></li>\\n\\t\\t\\t  <li><a data-toggle=\"tab\" href=\"#kr36\"><img src=\"/images/trans.gif\" class=\"bg-36kr\"/>&nbsp;&nbsp;<strong>36 Kr</strong></a></li>\\n\\t\\t\\t  <li><a data-toggle=\"tab\" href=\"#devto\"><img src=\"/images/news_source/devto.png\" class=\"bg-devto\"/>&nbsp;&nbsp;<strong>Dev.to</strong></a></li>\\n\\t\\t\\t  <li><a data-toggle=\"tab\" href=\"#infoq\"><img src=\"/images/news_source/infoq.png\" class=\"bg-infoq\"/>&nbsp;&nbsp;<strong>InfoQ</strong></a></li>\\n\\t\\t\\t  <li><a data-toggle=\"tab\" href=\"#segmentfault\"><img src=\"/images/news_source/segmentfault.png\"/>&nbsp;&nbsp;<strong>SegmentFault</strong></a></li>\\n\\t\\t\\t  \\t\\t\\t</ul>\\n\\t\\t\\t<div class=\"text-center\" style=\"margin-top:20px;margin-bottom:20px;font-size:16px;\">\\n\\t\\t\\t\\t<a href=\"/view/adm/user_news_source.php\" style=\"color:#666;\">more&nbsp;&#9654;</a>\\n\\t\\t\\t</div>\\n\\t\\t</div>\\n\\t\\t\\n\\t\\t<div class=\"col-md-10\" style=\"padding-right:0;\">\\n\\t\\t\\t<div id=\"news_pane_hook\"></div>\\n\\t\\t\\t<div id=\"news_pane\" news-pane news=\"news\" status=\"status\" source=\"source\" host=\"host\" visible=\"visible\" options=\"options\" tab=\"tab\"></div>\\n\\t\\t</div>\\n\\t</div>\\n</div>\\n<input type=\"hidden\" id=\"default_news_source\" value=\"hackernews\" />\\n</div>\\n<div id=\"footer\">\\n\\t<hr />\\n\\t<div class=\"container\">\\n\\t\\t<div class=\"col-md-6\">\\n\\t    \\t<a href=\"/aboutus.php\">About</a>&nbsp;&nbsp;|&nbsp;&nbsp;<a href=\"/contact.php\">Contact</a>&nbsp;&nbsp;|&nbsp;&nbsp;<a href=\"/doc/privacy.php\">Privacy</a>&nbsp;&nbsp;|&nbsp;&nbsp;<a href=\"/view/top.php\">Top</a>&nbsp;&nbsp;|&nbsp;&nbsp;<a href=\"/view/source.php\">News source</a>&nbsp;&nbsp;|&nbsp;&nbsp;<a href=\"/view/bookmarklet.php\">Bookmarklet</a>&nbsp;&nbsp;|&nbsp;&nbsp;Powered by <a href=\"https://www.pixelstech.net\" title=\"PixelsTech\" target=\"_blank\">PixelsTech</a>\\n\\t   \\t</div>\\n\\t   \\t<div class=\"col-md-6 text-right\">\\n\\t   \\t\\t&copy;2022 Pxlet.com All rights reserved\\t   \\t</div>\\n\\t</div>\\n\\t<input type=\"hidden\" id=\"auth_status\" value=\"false\" />\\n</div>\\n<div class=\"common-zone\">\\n\\t<div id=\"bookmarklet_pane\">\\n\\t\\t<div class=\"text-right\">\\n\\t\\t\\t<a href=\"javascript:void;\" id=\\'bookmarklet_pane_close_btn\\' title=\"Close\">\\n\\t\\t\\t\\t<span>&times;</span>\\n\\t\\t\\t</a>\\n\\t\\t</div>\\n\\t\\tInstall Chrome extension or Firefox add-on or Edge add-on to bookmark any link on the web.<br/><br/>\\n\\t\\t<div class=\"text-center\" style=\"font-size:40px;\">\\n\\t\\t<a href=\"https://chrome.google.com/webstore/detail/pxlet-bookmarklet/mmdbgolkgbmofebhdcmjdcgonakfeeno\" title=\"Chrome extension\" target=\"_blank\" rel=\"noopener noreferer\">\\n\\t\\t\\t<span class=\"fab fa-chrome\"></span>\\n\\t\\t</a>\\n\\t\\t&nbsp;\\n\\t\\t<a href=\"https://addons.mozilla.org/en-US/firefox/addon/pxlet-bookmarklet/\" title=\"Firefox Add-on\" target=\"_blank\" rel=\"noopener noreferer\">\\n\\t\\t\\t<span class=\"fab fa-firefox\"></span>\\n\\t\\t</a>\\n\\t\\t&nbsp;\\n\\t\\t<a href=\"https://microsoftedge.microsoft.com/addons/detail/acdadibpngdnepfghkidpijpjfljccah\" title=\"Microsoft Edge Add-on\" target=\"_blank\" rel=\"noopener noreferer\">\\n\\t\\t\\t<span class=\"fab fa-edge\"></span>\\n\\t\\t</a>\\n\\t\\t</div>\\n\\t</div>\\n</div>\\n<script type=\"text/javascript\" src=\"/js/external/jquery-2.1.4.min.js\"></script>\\n<script type=\"text/javascript\" src=\"/js/external/jquery-ui.min.js\"></script>\\n<script type=\"text/javascript\" src=\"/js/external/bootstrap/bootstrap.min.js\"></script>\\n<script type=\"text/javascript\" src=\"/js/external/angular.min.js\"></script>\\n<script type=\"text/javascript\" src=\"/js/common.min.js\"></script>\\n<script>\\n  (function(i,s,o,g,r,a,m){i[\\'GoogleAnalyticsObject\\']=r;i[r]=i[r]||function(){\\n  (i[r].q=i[r].q||[]).push(arguments)},i[r].l=1*new Date();a=s.createElement(o),\\n  m=s.getElementsByTagName(o)[0];a.async=1;a.src=g;m.parentNode.insertBefore(a,m)\\n  })(window,document,\\'script\\',\\'https://www.google-analytics.com/analytics.js\\',\\'ga\\');\\n\\n  ga(\\'create\\', \\'UA-106170379-1\\', \\'auto\\');\\n  ga(\\'send\\', \\'pageview\\');\\n</script><script type=\"text/javascript\" src=\"/js/external/jquery-md5.min.js\"></script>\\n<script type=\"text/javascript\" src=\"/js/techtrend.app.js\"></script>\\n<script type=\"text/javascript\" src=\"/js/techtrend.controller.js?rnf=1.1\"></script>\\n</body>\\n</html>'\n"
          ]
        }
      ]
    },
    {
      "cell_type": "code",
      "source": [
        "#we use beautiful soup to make sense of the HTML response, this approach takes advantage of the tags\n",
        "from bs4 import BeautifulSoup\n"
      ],
      "metadata": {
        "id": "rd0CNwlvU3sj"
      },
      "execution_count": null,
      "outputs": []
    },
    {
      "cell_type": "code",
      "source": [
        "soup = BeautifulSoup(answer.content, 'html.parser')\n"
      ],
      "metadata": {
        "id": "XOrLZY0JU4gV"
      },
      "execution_count": null,
      "outputs": []
    },
    {
      "cell_type": "code",
      "source": [
        "print(soup.prettify())\n"
      ],
      "metadata": {
        "colab": {
          "base_uri": "https://localhost:8080/"
        },
        "id": "1Gu4r5t9VCUE",
        "outputId": "da9ee1eb-4244-4559-a7a6-65cd6e7a7166"
      },
      "execution_count": null,
      "outputs": [
        {
          "output_type": "stream",
          "name": "stdout",
          "text": [
            "<!DOCTYPE html>\n",
            "<html>\n",
            " <head>\n",
            "  <meta content=\"text/html; charset=utf-8\" http-equiv=\"Content-Type\"/>\n",
            "  <meta content=\"width=device-width, initial-scale=1\" name=\"viewport\"/>\n",
            "  <meta content=\"Pxlet is a place about technology trends and stories from Hacker News, Reddit, Digg, DZone, SlashDot, CSDN, BuzzFeed, Tech Crunch, The Register, Lobsters, 36 Kr... Read the correct ones instead of reading anyone. It includes news from US, China, Asia etc and can be considered as a very handy technology news aggregator\" name=\"description\"/>\n",
            "  <meta content=\"Pxlet, Pixlet, Tech news, Tech news aggregator, Technology news aggregator, Tech trend, Technology, Hacker News, Reddit, Digg, DZone, CSDN, SlashDot, Tech Crunch\" name=\"keywords\"/>\n",
            "  <link href=\"/favicon.ico\" rel=\"shortcut icon\" type=\"image/x-icon\"/>\n",
            "  <link href=\"/favicon.ico\" rel=\"bookmark\"/>\n",
            "  <link href=\"/css/external/bootstrap/bootstrap.min.css\" rel=\"stylesheet\" type=\"text/css\"/>\n",
            "  <!-- <link rel=\"stylesheet\" type=\"text/css\" href=\"/css/external/material-design-webfonts/css/materialdesignicons.min.css\"/> -->\n",
            "  <link href=\"/css/external/fontawesome/css/all.css\" rel=\"stylesheet\" type=\"text/css\"/>\n",
            "  <link href=\"/css/main.min.css\" rel=\"stylesheet\" type=\"text/css\"/>\n",
            "  <link href=\"/css/index.min.css\" rel=\"stylesheet\" type=\"text/css\"/>\n",
            "  <script async=\"\" data-ad-client=\"ca-pub-7230278337279690\" src=\"https://pagead2.googlesyndication.com/pagead/js/adsbygoogle.js\">\n",
            "  </script>\n",
            "  <title>\n",
            "   Pxlet - Yet another tech news hub\n",
            "  </title>\n",
            " </head>\n",
            " <body>\n",
            "  <a name=\"top\">\n",
            "  </a>\n",
            "  <div id=\"header\">\n",
            "   <center>\n",
            "    <a href=\"/\">\n",
            "     <img src=\"/images/logo.png\" title=\"Pxlet.com\"/>\n",
            "    </a>\n",
            "    <br/>\n",
            "    <br/>\n",
            "    <a class=\"btn btn-default btn-md\" href=\"/view/signin.php\" id=\"sign_in_btn\">\n",
            "     <span class=\"fas fa-fw fa-sign-in-alt\">\n",
            "     </span>\n",
            "     Sign In\n",
            "    </a>\n",
            "   </center>\n",
            "   <div class=\"alert alert-success\" id=\"notification\">\n",
            "   </div>\n",
            "  </div>\n",
            "  <div class=\"container\" id=\"content_container\">\n",
            "   <!-- Below is the page content container -->\n",
            "   <div id=\"main_body\" ng-app=\"TechTrend\" ng-controller=\"TechTrendController\">\n",
            "    <div class=\"col-md-12\" id=\"\">\n",
            "     <div class=\"alert alert-info alert-dismissible\">\n",
            "      <button aria-label=\"Close\" class=\"close\" data-dismiss=\"alert\" type=\"button\">\n",
            "       <span aria-hidden=\"true\">\n",
            "        ×\n",
            "       </span>\n",
            "      </button>\n",
            "      It's not only another tech news aggregator. Sign in to experience more features!\n",
            "      <a href=\"/view/feature.php\">\n",
            "       <i class=\"fas fa-fw fa-arrow-right\">\n",
            "       </i>\n",
            "      </a>\n",
            "     </div>\n",
            "    </div>\n",
            "    <!--\n",
            "\t<div class=\"col-md-12\" id=\"weekend_alert\" style=\"display:none;\">\n",
            "\t\t<div class=\"alert alert-success alert-dismissible\">\n",
            "\t\t<button type=\"button\" class=\"close\" data-dismiss=\"alert\" aria-label=\"Close\" id=\"weekend_close_btn\"><span aria-hidden=\"true\">&times;</span></button>\n",
            "\t\t\tIt's weekend. Time for outing and having some fun! Staying away from us. :)\t\t</div>\n",
            "\t</div>\n",
            "\t-->\n",
            "    <div class=\"col-md-12\">\n",
            "     <div class=\"col-md-2\" style=\"padding-left:0;\">\n",
            "      <ul class=\"nav nav-tabs tabs-left\">\n",
            "       <li class=\"active\">\n",
            "        <a data-toggle=\"tab\" href=\"#hackernews\">\n",
            "         <img class=\"bg-hackernews\" src=\"/images/trans.gif\"/>\n",
            "         <strong>\n",
            "          Hacker News\n",
            "         </strong>\n",
            "        </a>\n",
            "       </li>\n",
            "       <li>\n",
            "        <a data-toggle=\"tab\" href=\"#reddit\">\n",
            "         <img class=\"bg-reddit\" src=\"/images/trans.gif\"/>\n",
            "         <strong>\n",
            "          Reddit\n",
            "         </strong>\n",
            "        </a>\n",
            "       </li>\n",
            "       <li>\n",
            "        <a data-toggle=\"tab\" href=\"#techcrunch\">\n",
            "         <img class=\"bg-techcrunch\" src=\"/images/trans.gif\"/>\n",
            "         <strong>\n",
            "          Tech Crunch\n",
            "         </strong>\n",
            "        </a>\n",
            "       </li>\n",
            "       <li>\n",
            "        <a data-toggle=\"tab\" href=\"#lobsters\">\n",
            "         <img class=\"bg-lobsters\" src=\"/images/trans.gif\"/>\n",
            "         <strong>\n",
            "          Lobsters\n",
            "         </strong>\n",
            "        </a>\n",
            "       </li>\n",
            "       <li>\n",
            "        <a data-toggle=\"tab\" href=\"#krasia\">\n",
            "         <img class=\"bg-krasia\" src=\"/images/news_source/krasia.png\"/>\n",
            "         <strong>\n",
            "          KrAsia\n",
            "         </strong>\n",
            "        </a>\n",
            "       </li>\n",
            "       <li>\n",
            "        <a data-toggle=\"tab\" href=\"#juejin\">\n",
            "         <img src=\"/images/news_source/juejin.png\"/>\n",
            "         <strong>\n",
            "          掘金\n",
            "         </strong>\n",
            "        </a>\n",
            "       </li>\n",
            "       <li>\n",
            "        <a data-toggle=\"tab\" href=\"#kr36\">\n",
            "         <img class=\"bg-36kr\" src=\"/images/trans.gif\"/>\n",
            "         <strong>\n",
            "          36 Kr\n",
            "         </strong>\n",
            "        </a>\n",
            "       </li>\n",
            "       <li>\n",
            "        <a data-toggle=\"tab\" href=\"#devto\">\n",
            "         <img class=\"bg-devto\" src=\"/images/news_source/devto.png\"/>\n",
            "         <strong>\n",
            "          Dev.to\n",
            "         </strong>\n",
            "        </a>\n",
            "       </li>\n",
            "       <li>\n",
            "        <a data-toggle=\"tab\" href=\"#infoq\">\n",
            "         <img class=\"bg-infoq\" src=\"/images/news_source/infoq.png\"/>\n",
            "         <strong>\n",
            "          InfoQ\n",
            "         </strong>\n",
            "        </a>\n",
            "       </li>\n",
            "       <li>\n",
            "        <a data-toggle=\"tab\" href=\"#segmentfault\">\n",
            "         <img src=\"/images/news_source/segmentfault.png\"/>\n",
            "         <strong>\n",
            "          SegmentFault\n",
            "         </strong>\n",
            "        </a>\n",
            "       </li>\n",
            "      </ul>\n",
            "      <div class=\"text-center\" style=\"margin-top:20px;margin-bottom:20px;font-size:16px;\">\n",
            "       <a href=\"/view/adm/user_news_source.php\" style=\"color:#666;\">\n",
            "        more ▶\n",
            "       </a>\n",
            "      </div>\n",
            "     </div>\n",
            "     <div class=\"col-md-10\" style=\"padding-right:0;\">\n",
            "      <div id=\"news_pane_hook\">\n",
            "      </div>\n",
            "      <div host=\"host\" id=\"news_pane\" news=\"news\" news-pane=\"\" options=\"options\" source=\"source\" status=\"status\" tab=\"tab\" visible=\"visible\">\n",
            "      </div>\n",
            "     </div>\n",
            "    </div>\n",
            "   </div>\n",
            "   <input id=\"default_news_source\" type=\"hidden\" value=\"hackernews\"/>\n",
            "  </div>\n",
            "  <div id=\"footer\">\n",
            "   <hr/>\n",
            "   <div class=\"container\">\n",
            "    <div class=\"col-md-6\">\n",
            "     <a href=\"/aboutus.php\">\n",
            "      About\n",
            "     </a>\n",
            "     |\n",
            "     <a href=\"/contact.php\">\n",
            "      Contact\n",
            "     </a>\n",
            "     |\n",
            "     <a href=\"/doc/privacy.php\">\n",
            "      Privacy\n",
            "     </a>\n",
            "     |\n",
            "     <a href=\"/view/top.php\">\n",
            "      Top\n",
            "     </a>\n",
            "     |\n",
            "     <a href=\"/view/source.php\">\n",
            "      News source\n",
            "     </a>\n",
            "     |\n",
            "     <a href=\"/view/bookmarklet.php\">\n",
            "      Bookmarklet\n",
            "     </a>\n",
            "     |  Powered by\n",
            "     <a href=\"https://www.pixelstech.net\" target=\"_blank\" title=\"PixelsTech\">\n",
            "      PixelsTech\n",
            "     </a>\n",
            "    </div>\n",
            "    <div class=\"col-md-6 text-right\">\n",
            "     ©2022 Pxlet.com All rights reserved\n",
            "    </div>\n",
            "   </div>\n",
            "   <input id=\"auth_status\" type=\"hidden\" value=\"false\"/>\n",
            "  </div>\n",
            "  <div class=\"common-zone\">\n",
            "   <div id=\"bookmarklet_pane\">\n",
            "    <div class=\"text-right\">\n",
            "     <a href=\"javascript:void;\" id=\"bookmarklet_pane_close_btn\" title=\"Close\">\n",
            "      <span>\n",
            "       ×\n",
            "      </span>\n",
            "     </a>\n",
            "    </div>\n",
            "    Install Chrome extension or Firefox add-on or Edge add-on to bookmark any link on the web.\n",
            "    <br/>\n",
            "    <br/>\n",
            "    <div class=\"text-center\" style=\"font-size:40px;\">\n",
            "     <a href=\"https://chrome.google.com/webstore/detail/pxlet-bookmarklet/mmdbgolkgbmofebhdcmjdcgonakfeeno\" rel=\"noopener noreferer\" target=\"_blank\" title=\"Chrome extension\">\n",
            "      <span class=\"fab fa-chrome\">\n",
            "      </span>\n",
            "     </a>\n",
            "     <a href=\"https://addons.mozilla.org/en-US/firefox/addon/pxlet-bookmarklet/\" rel=\"noopener noreferer\" target=\"_blank\" title=\"Firefox Add-on\">\n",
            "      <span class=\"fab fa-firefox\">\n",
            "      </span>\n",
            "     </a>\n",
            "     <a href=\"https://microsoftedge.microsoft.com/addons/detail/acdadibpngdnepfghkidpijpjfljccah\" rel=\"noopener noreferer\" target=\"_blank\" title=\"Microsoft Edge Add-on\">\n",
            "      <span class=\"fab fa-edge\">\n",
            "      </span>\n",
            "     </a>\n",
            "    </div>\n",
            "   </div>\n",
            "  </div>\n",
            "  <script src=\"/js/external/jquery-2.1.4.min.js\" type=\"text/javascript\">\n",
            "  </script>\n",
            "  <script src=\"/js/external/jquery-ui.min.js\" type=\"text/javascript\">\n",
            "  </script>\n",
            "  <script src=\"/js/external/bootstrap/bootstrap.min.js\" type=\"text/javascript\">\n",
            "  </script>\n",
            "  <script src=\"/js/external/angular.min.js\" type=\"text/javascript\">\n",
            "  </script>\n",
            "  <script src=\"/js/common.min.js\" type=\"text/javascript\">\n",
            "  </script>\n",
            "  <script>\n",
            "   (function(i,s,o,g,r,a,m){i['GoogleAnalyticsObject']=r;i[r]=i[r]||function(){\n",
            "  (i[r].q=i[r].q||[]).push(arguments)},i[r].l=1*new Date();a=s.createElement(o),\n",
            "  m=s.getElementsByTagName(o)[0];a.async=1;a.src=g;m.parentNode.insertBefore(a,m)\n",
            "  })(window,document,'script','https://www.google-analytics.com/analytics.js','ga');\n",
            "\n",
            "  ga('create', 'UA-106170379-1', 'auto');\n",
            "  ga('send', 'pageview');\n",
            "  </script>\n",
            "  <script src=\"/js/external/jquery-md5.min.js\" type=\"text/javascript\">\n",
            "  </script>\n",
            "  <script src=\"/js/techtrend.app.js\" type=\"text/javascript\">\n",
            "  </script>\n",
            "  <script src=\"/js/techtrend.controller.js?rnf=1.1\" type=\"text/javascript\">\n",
            "  </script>\n",
            " </body>\n",
            "</html>\n"
          ]
        }
      ]
    },
    {
      "cell_type": "code",
      "source": [
        "soup.title"
      ],
      "metadata": {
        "colab": {
          "base_uri": "https://localhost:8080/"
        },
        "id": "yKUeg0PMVLbz",
        "outputId": "6b8ec65c-78c3-4732-a713-a5c306be9941"
      },
      "execution_count": null,
      "outputs": [
        {
          "output_type": "execute_result",
          "data": {
            "text/plain": [
              "<title>Pxlet - Yet another tech news hub</title>"
            ]
          },
          "metadata": {},
          "execution_count": 22
        }
      ]
    },
    {
      "cell_type": "code",
      "source": [
        "# let's find the first 20 links\n",
        "soup.find_all('a')[:20]"
      ],
      "metadata": {
        "colab": {
          "base_uri": "https://localhost:8080/"
        },
        "id": "F_M1ogqkVQR5",
        "outputId": "d05dff9c-fcdb-4bf6-a5d5-33c20e3d4d3b"
      },
      "execution_count": null,
      "outputs": [
        {
          "output_type": "execute_result",
          "data": {
            "text/plain": [
              "[<a name=\"top\"></a>,\n",
              " <a href=\"/\"><img src=\"/images/logo.png\" title=\"Pxlet.com\"/></a>,\n",
              " <a class=\"btn btn-default btn-md\" href=\"/view/signin.php\" id=\"sign_in_btn\"><span class=\"fas fa-fw fa-sign-in-alt\"></span> Sign In</a>,\n",
              " <a href=\"/view/feature.php\"><i class=\"fas fa-fw fa-arrow-right\"></i> </a>,\n",
              " <a data-toggle=\"tab\" href=\"#hackernews\"><img class=\"bg-hackernews\" src=\"/images/trans.gif\"/>  <strong>Hacker News</strong></a>,\n",
              " <a data-toggle=\"tab\" href=\"#reddit\"><img class=\"bg-reddit\" src=\"/images/trans.gif\"/>  <strong>Reddit</strong></a>,\n",
              " <a data-toggle=\"tab\" href=\"#techcrunch\"><img class=\"bg-techcrunch\" src=\"/images/trans.gif\"/>  <strong>Tech Crunch</strong></a>,\n",
              " <a data-toggle=\"tab\" href=\"#lobsters\"><img class=\"bg-lobsters\" src=\"/images/trans.gif\"/>  <strong>Lobsters</strong></a>,\n",
              " <a data-toggle=\"tab\" href=\"#krasia\"><img class=\"bg-krasia\" src=\"/images/news_source/krasia.png\"/>  <strong>KrAsia</strong></a>,\n",
              " <a data-toggle=\"tab\" href=\"#juejin\"><img src=\"/images/news_source/juejin.png\"/>  <strong>掘金</strong></a>,\n",
              " <a data-toggle=\"tab\" href=\"#kr36\"><img class=\"bg-36kr\" src=\"/images/trans.gif\"/>  <strong>36 Kr</strong></a>,\n",
              " <a data-toggle=\"tab\" href=\"#devto\"><img class=\"bg-devto\" src=\"/images/news_source/devto.png\"/>  <strong>Dev.to</strong></a>,\n",
              " <a data-toggle=\"tab\" href=\"#infoq\"><img class=\"bg-infoq\" src=\"/images/news_source/infoq.png\"/>  <strong>InfoQ</strong></a>,\n",
              " <a data-toggle=\"tab\" href=\"#segmentfault\"><img src=\"/images/news_source/segmentfault.png\"/>  <strong>SegmentFault</strong></a>,\n",
              " <a href=\"/view/adm/user_news_source.php\" style=\"color:#666;\">more ▶</a>,\n",
              " <a href=\"/aboutus.php\">About</a>,\n",
              " <a href=\"/contact.php\">Contact</a>,\n",
              " <a href=\"/doc/privacy.php\">Privacy</a>,\n",
              " <a href=\"/view/top.php\">Top</a>,\n",
              " <a href=\"/view/source.php\">News source</a>]"
            ]
          },
          "metadata": {},
          "execution_count": 25
        }
      ]
    },
    {
      "cell_type": "code",
      "source": [
        "# and get the title of one\n",
        "soup.find_all('a')[6].get_text()"
      ],
      "metadata": {
        "colab": {
          "base_uri": "https://localhost:8080/",
          "height": 35
        },
        "id": "yLxp3YFdVeps",
        "outputId": "d0edfb15-06fe-43e4-bcc1-0700d78ebd53"
      },
      "execution_count": null,
      "outputs": [
        {
          "output_type": "execute_result",
          "data": {
            "text/plain": [
              "'\\xa0\\xa0Tech Crunch'"
            ],
            "application/vnd.google.colaboratory.intrinsic+json": {
              "type": "string"
            }
          },
          "metadata": {},
          "execution_count": 32
        }
      ]
    }
  ]
}